{
 "cells": [
  {
   "cell_type": "code",
   "execution_count": 1,
   "metadata": {
    "collapsed": false,
    "deletable": true,
    "editable": true
   },
   "outputs": [],
   "source": [
    "import os\n",
    "import itertools\n",
    "import gc\n",
    "\n",
    "import pandas as pd\n",
    "import numpy as np\n",
    "import matplotlib.pyplot as plt\n",
    "import seaborn as sns\n",
    "\n",
    "from sklearn.model_selection import StratifiedKFold\n",
    "from sklearn.metrics import confusion_matrix\n",
    "\n",
    "import lightgbm as lgb\n",
    "\n",
    "%matplotlib inline"
   ]
  },
  {
   "cell_type": "code",
   "execution_count": 3,
   "metadata": {
    "collapsed": false,
    "deletable": true,
    "editable": true
   },
   "outputs": [],
   "source": [
    "test = None\n",
    "for model in os.listdir('model_to_stack'):\n",
    "    if test is None:\n",
    "        test = pd.read_csv(os.path.join('model_to_stack/', model), compression='gzip')\n",
    "        test.columns = ['object_id'] + [col + model[0] + model[11:13] for col in test.columns[1:]]\n",
    "    else:\n",
    "        temp = pd.read_csv(os.path.join('model_to_stack/', model), compression='gzip')\n",
    "        temp.columns = [col + model[0] + model[11:13] for col in temp.columns]\n",
    "        test = pd.concat([test, temp[temp.columns[1:]]], axis=1)"
   ]
  },
  {
   "cell_type": "code",
   "execution_count": 4,
   "metadata": {
    "collapsed": false,
    "deletable": true,
    "editable": true
   },
   "outputs": [],
   "source": [
    "train = None\n",
    "for oof in os.listdir('oof'):\n",
    "    if train is None:\n",
    "        train = pd.read_csv(os.path.join('oof/', oof), index_col=0)\n",
    "        train.columns = [col + oof[0] + oof[-6:-4] for col in train.columns]\n",
    "    else:\n",
    "        temp = pd.read_csv(os.path.join('oof/', oof), index_col=0)\n",
    "        temp.columns = [col + oof[0] + oof[-6:-4] for col in temp.columns]\n",
    "        train = pd.concat([train, temp], axis=1)"
   ]
  },
  {
   "cell_type": "code",
   "execution_count": 6,
   "metadata": {
    "collapsed": false,
    "deletable": true,
    "editable": true
   },
   "outputs": [],
   "source": [
    "train_y = pd.read_csv('data/preprocessed_train_set_3.csv')"
   ]
  },
  {
   "cell_type": "code",
   "execution_count": 7,
   "metadata": {
    "collapsed": true,
    "deletable": true,
    "editable": true
   },
   "outputs": [],
   "source": [
    "weights = {\n",
    "     6: 51.973509933774835,\n",
    "     15: 15.854545454545455,\n",
    "     16: 8.493506493506494,\n",
    "     42: 6.57837384744342,\n",
    "     52: 42.885245901639344,\n",
    "     53: 261.6,\n",
    "     62: 16.214876033057852,\n",
    "     64: 76.94117647058823,\n",
    "     65: 8.0,\n",
    "     67: 37.73076923076923,\n",
    "     88: 21.21081081081081,\n",
    "     90: 3.3929961089494163,\n",
    "     92: 32.83682008368201,\n",
    "     95: 44.84571428571429\n",
    "}"
   ]
  },
  {
   "cell_type": "code",
   "execution_count": 8,
   "metadata": {
    "collapsed": true,
    "deletable": true,
    "editable": true
   },
   "outputs": [],
   "source": [
    "folds = StratifiedKFold(n_splits=5, shuffle=True, random_state=666)"
   ]
  },
  {
   "cell_type": "code",
   "execution_count": 9,
   "metadata": {
    "collapsed": true,
    "deletable": true,
    "editable": true
   },
   "outputs": [],
   "source": [
    "def train_classifiers(full_train=None, y=None):\n",
    "    res = []\n",
    "    clfs = []\n",
    "    importances = pd.DataFrame()\n",
    "    oof_preds = np.zeros((len(full_train), np.unique(y).shape[0]))\n",
    "    for fold_, (trn_, val_) in enumerate(folds.split(y, y)):\n",
    "        trn_x, trn_y = full_train.iloc[trn_], y.iloc[trn_]\n",
    "        val_x, val_y = full_train.iloc[val_], y.iloc[val_]\n",
    "\n",
    "        clf = lgb.LGBMClassifier(**lgb_params)\n",
    "        clf.fit(\n",
    "            trn_x, trn_y,\n",
    "            eval_set=[(trn_x, trn_y), (val_x, val_y)],\n",
    "            eval_metric=lgb_multi_weighted_logloss,\n",
    "            verbose=1000,\n",
    "            early_stopping_rounds=75,\n",
    "            sample_weight=trn_y.map(weights),\n",
    "        )\n",
    "        oof_preds[val_, :] = clf.predict_proba(val_x, num_iteration=clf.best_iteration_)\n",
    "        result = multi_weighted_logloss(val_y, clf.predict_proba(val_x, num_iteration=clf.best_iteration_))\n",
    "        res.append(result)\n",
    "        \n",
    "        imp_df = pd.DataFrame()\n",
    "        imp_df['feature'] = full_train.columns\n",
    "        imp_df['gain'] = clf.feature_importances_\n",
    "        imp_df['fold'] = fold_ + 1\n",
    "        importances = pd.concat([importances, imp_df], axis=0)\n",
    "        clfs.append(clf)\n",
    "        \n",
    "    print('+' * 80)\n",
    "    print(np.array(res).mean())\n",
    "    print(np.array(res).std())\n",
    "    return np.array(res).mean(), importances, oof_preds, clfs\n",
    "\n",
    "def plot_confusion_matrix(cm, classes,\n",
    "                          normalize=False,\n",
    "                          title='Confusion matrix',\n",
    "                          cmap=plt.cm.Blues):\n",
    "\n",
    "    if normalize:\n",
    "        cm = cm.astype('float') / cm.sum(axis=1)[:, np.newaxis]\n",
    "        print(\"Normalized confusion matrix\")\n",
    "    else:\n",
    "        print('Confusion matrix, without normalization')\n",
    "\n",
    "    plt.imshow(cm, interpolation='nearest', cmap=cmap)\n",
    "    plt.title(title)\n",
    "    plt.colorbar()\n",
    "    tick_marks = np.arange(len(classes))\n",
    "    plt.xticks(tick_marks, classes, rotation=0)\n",
    "    plt.yticks(tick_marks, classes)\n",
    "\n",
    "    fmt = '.2f' if normalize else 'd'\n",
    "    thresh = cm.max() / 2.\n",
    "    for i, j in itertools.product(range(cm.shape[0]), range(cm.shape[1])):\n",
    "        plt.text(j, i, format(cm[i, j], fmt),\n",
    "                 horizontalalignment=\"center\",\n",
    "                 color=\"white\" if cm[i, j] > thresh else \"black\")\n",
    "\n",
    "    plt.ylabel('True label')\n",
    "    plt.xlabel('Predicted label')\n",
    "\n",
    "def multi_weighted_logloss(y_true, y_preds):\n",
    "    classes = [6, 15, 16, 42, 52, 53, 62, 64, 65, 67, 88, 90, 92, 95]\n",
    "    class_weight = {6: 1, 15: 2, 16: 1, 42: 1, 52: 1, 53: 1, 62: 1, 64: 2, 65: 1, 67: 1, 88: 1, 90: 1, 92: 1, 95: 1}\n",
    "    if len(np.unique(y_true)) > 14:\n",
    "        classes.append(99)\n",
    "        class_weight[99] = 2\n",
    "    y_p = y_preds\n",
    "    y_ohe = pd.get_dummies(y_true)\n",
    "    y_p = np.clip(a=y_p, a_min=1e-15, a_max=1 - 1e-15)\n",
    "    y_p_log = np.log(y_p)\n",
    "    y_log_ones = np.sum(y_ohe.values * y_p_log, axis=0)\n",
    "    nb_pos = y_ohe.sum(axis=0).values.astype(float)\n",
    "    class_arr = np.array([class_weight[k] for k in sorted(class_weight.keys())])\n",
    "    y_w = y_log_ones * class_arr / nb_pos\n",
    "\n",
    "    loss = - np.sum(y_w) / np.sum(class_arr)\n",
    "    return loss    \n",
    "\n",
    "def lgb_multi_weighted_logloss(y_true, y_preds):\n",
    "    classes = [6, 15, 16, 42, 52, 53, 62, 64, 65, 67, 88, 90, 92, 95]\n",
    "    class_weight = {6: 1, 15: 2, 16: 1, 42: 1, 52: 1, 53: 1, 62: 1, 64: 2, 65: 1, 67: 1, 88: 1, 90: 1, 92: 1, 95: 1}\n",
    "    if len(np.unique(y_true)) > 14:\n",
    "        classes.append(99)\n",
    "        class_weight[99] = 2\n",
    "    y_p = y_preds.reshape(y_true.shape[0], len(classes), order='F')\n",
    "\n",
    "    y_ohe = pd.get_dummies(y_true)\n",
    "    y_p = np.clip(a=y_p, a_min=1e-15, a_max=1 - 1e-15)\n",
    "    y_p_log = np.log(y_p)\n",
    "    y_log_ones = np.sum(y_ohe.values * y_p_log, axis=0)\n",
    "    nb_pos = y_ohe.sum(axis=0).values.astype(float)\n",
    "    class_arr = np.array([class_weight[k] for k in sorted(class_weight.keys())])\n",
    "    y_w = y_log_ones * class_arr / nb_pos\n",
    "\n",
    "    loss = - np.sum(y_w) / np.sum(class_arr)\n",
    "    return 'wloss', loss, False"
   ]
  },
  {
   "cell_type": "code",
   "execution_count": 10,
   "metadata": {
    "collapsed": false,
    "deletable": true,
    "editable": true
   },
   "outputs": [],
   "source": [
    "lgb_params = {\n",
    "    'boosting_type': 'gbdt',\n",
    "    'objective': 'multiclass',\n",
    "    'num_class': 14,\n",
    "    'metric': 'multi_logloss',\n",
    "    'learning_rate': 0.03,\n",
    "    'subsample': .7,\n",
    "    'colsample_bytree': .55,\n",
    "    'reg_alpha': .1,\n",
    "    'reg_lambda': .01,\n",
    "    'min_split_gain': 0.02,\n",
    "    'n_estimators': 1000,\n",
    "    'silent': 1,\n",
    "    'verbose': -1,\n",
    "    'max_depth': 5,\n",
    "    'min_data_in_leaf': 85\n",
    "}"
   ]
  },
  {
   "cell_type": "code",
   "execution_count": 11,
   "metadata": {
    "collapsed": false,
    "deletable": true,
    "editable": true,
    "scrolled": true
   },
   "outputs": [
    {
     "name": "stdout",
     "output_type": "stream",
     "text": [
      "Training until validation scores don't improve for 75 rounds.\n",
      "Early stopping, best iteration is:\n",
      "[192]\ttraining's multi_logloss: 0.238029\ttraining's wloss: 0.227025\tvalid_1's multi_logloss: 0.560898\tvalid_1's wloss: 0.498161\n",
      "Training until validation scores don't improve for 75 rounds.\n",
      "Early stopping, best iteration is:\n",
      "[216]\ttraining's multi_logloss: 0.215218\ttraining's wloss: 0.205046\tvalid_1's multi_logloss: 0.529684\tvalid_1's wloss: 0.453411\n",
      "Training until validation scores don't improve for 75 rounds.\n",
      "Early stopping, best iteration is:\n",
      "[187]\ttraining's multi_logloss: 0.240534\ttraining's wloss: 0.231392\tvalid_1's multi_logloss: 0.593406\tvalid_1's wloss: 0.487309\n",
      "Training until validation scores don't improve for 75 rounds.\n",
      "Early stopping, best iteration is:\n",
      "[181]\ttraining's multi_logloss: 0.250127\ttraining's wloss: 0.240164\tvalid_1's multi_logloss: 0.585185\tvalid_1's wloss: 0.491161\n",
      "Training until validation scores don't improve for 75 rounds.\n",
      "Early stopping, best iteration is:\n",
      "[190]\ttraining's multi_logloss: 0.240689\ttraining's wloss: 0.230296\tvalid_1's multi_logloss: 0.585461\tvalid_1's wloss: 0.500461\n",
      "++++++++++++++++++++++++++++++++++++++++++++++++++++++++++++++++++++++++++++++++\n",
      "0.4861007120386199\n",
      "0.017013655247886283\n"
     ]
    }
   ],
   "source": [
    "m, imp, oof, clfs = train_classifiers(train, train_y['target'])"
   ]
  },
  {
   "cell_type": "code",
   "execution_count": 13,
   "metadata": {
    "collapsed": false,
    "deletable": true,
    "editable": true
   },
   "outputs": [
    {
     "name": "stdout",
     "output_type": "stream",
     "text": [
      "Normalized confusion matrix\n"
     ]
    },
    {
     "data": {
      "text/plain": [
       "168"
      ]
     },
     "execution_count": 13,
     "metadata": {},
     "output_type": "execute_result"
    },
    {
     "data": {
      "image/png": "[encoded data removed]",
      "text/plain": [
       "<matplotlib.figure.Figure at 0x7f32aaf49748>"
      ]
     },
     "metadata": {},
     "output_type": "display_data"
    }
   ],
   "source": [
    "dr = dict(zip(sorted([6, 15, 16, 42, 52, 53, 62, 64, 65, 67, 88, 90, 92, 95]), range(14)))\n",
    "\n",
    "cnf_matrix = confusion_matrix(train_y['target'].map(dr), np.argmax(oof, axis=-1))\n",
    "\n",
    "# Plot normalized confusion matrix\n",
    "plt.figure(figsize=(12, 12))\n",
    "foo = plot_confusion_matrix(cnf_matrix, classes=range(14), normalize=True,\n",
    "                      title='Confusion matrix')\n",
    "gc.collect()"
   ]
  },
  {
   "cell_type": "code",
   "execution_count": 15,
   "metadata": {
    "collapsed": false,
    "deletable": true,
    "editable": true
   },
   "outputs": [],
   "source": [
    "preds_ = None\n",
    "for clf in clfs:\n",
    "    if preds_ is None:\n",
    "        preds_ = clf.predict_proba(test[train.columns]) \n",
    "    else:\n",
    "        preds_ += clf.predict_proba(test[train.columns]) \n",
    "\n",
    "preds_ = preds_ / len(clfs)\n",
    "\n",
    "\n",
    "preds_99 = np.ones(preds_.shape[0])\n",
    "for i in range(preds_.shape[1]):\n",
    "    preds_99 *= (1 - preds_[:, i])\n",
    "\n",
    "classes = [6, 15, 16, 42, 52, 53, 62, 64, 65, 67, 88, 90, 92, 95]\n",
    "# Create DataFrame from predictions\n",
    "preds_df_ = pd.DataFrame(preds_, columns=['class_' + str(s) for s in classes])\n",
    "preds_df_['object_id'] = test['object_id']\n",
    "preds_df_['class_99'] = 0.23 * preds_99 / np.mean(preds_99) "
   ]
  },
  {
   "cell_type": "code",
   "execution_count": 16,
   "metadata": {
    "collapsed": true,
    "deletable": true,
    "editable": true
   },
   "outputs": [],
   "source": [
    "preds_df_[['object_id'] + ['class_' + str(s) for s in classes] + ['class_99']]\\\n",
    ".to_csv('stack_final.csv.gz', header=True, index=False, float_format='%.6f', compression='gzip')"
   ]
  },
  {
   "cell_type": "code",
   "execution_count": 17,
   "metadata": {
    "collapsed": false,
    "deletable": true,
    "editable": true
   },
   "outputs": [
    {
     "data": {
      "text/plain": [
       "11842"
      ]
     },
     "execution_count": 17,
     "metadata": {},
     "output_type": "execute_result"
    }
   ],
   "source": [
    "gc.collect()"
   ]
  }
 ],
 "metadata": {
  "kernelspec": {
   "display_name": "Python 3",
   "language": "python",
   "name": "python3"
  },
  "language_info": {
   "codemirror_mode": {
    "name": "ipython",
    "version": 3
   },
   "file_extension": ".py",
   "mimetype": "text/x-python",
   "name": "python",
   "nbconvert_exporter": "python",
   "pygments_lexer": "ipython3",
   "version": "3.4.3"
  }
 },
 "nbformat": 4,
 "nbformat_minor": 2
}
